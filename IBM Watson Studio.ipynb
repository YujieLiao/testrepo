{
 "cells": [
  {
   "cell_type": "markdown",
   "id": "dcfb066c-88b3-40d0-8dd5-0943690644aa",
   "metadata": {},
   "source": [
    "# Failed to create a Watson Studio account so I did my assignment in Jupyter Notebook"
   ]
  },
  {
   "cell_type": "markdown",
   "id": "40bd450b-e9b1-46e6-9f57-790685591728",
   "metadata": {},
   "source": [
    "# My Jupyter Notebook on IBM Watson Studio\""
   ]
  },
  {
   "cell_type": "markdown",
   "id": "053efa52-6fed-4a13-9222-0cb9d368b42e",
   "metadata": {},
   "source": [
    "### Shirley Liao"
   ]
  },
  {
   "cell_type": "markdown",
   "id": "e02c7770-cb4f-4efd-b648-f9b6e579b88d",
   "metadata": {},
   "source": [
    "100 Human"
   ]
  },
  {
   "cell_type": "markdown",
   "id": "4c556829-50b8-46d4-a068-fb1e95cfc903",
   "metadata": {},
   "source": [
    "I am interested in DS for a long time and currently pursuing a DS track career."
   ]
  },
  {
   "cell_type": "markdown",
   "id": "09b527dd-271b-4a9e-90be-ddf56677dec5",
   "metadata": {},
   "source": [
    "### Test function"
   ]
  },
  {
   "cell_type": "code",
   "execution_count": 4,
   "id": "0e354aef-da30-4359-8a48-dbfad7b93d92",
   "metadata": {},
   "outputs": [
    {
     "data": {
      "text/plain": [
       "True"
      ]
     },
     "execution_count": 4,
     "metadata": {},
     "output_type": "execute_result"
    }
   ],
   "source": [
    "def gauss(n):\n",
    "    return (n * (n + 1)) /2\n",
    "gauss(100) == sum(range(101))b\n",
    "\n"
   ]
  },
  {
   "cell_type": "markdown",
   "id": "0a504ba4-7384-4db4-b2f2-e26abf09d9b1",
   "metadata": {},
   "source": [
    "- one\n",
    "    1. \n",
    "    2. \n",
    "    3. \n",
    "- two \n",
    "-three\n",
    "\n",
    "🥰"
   ]
  }
 ],
 "metadata": {
  "kernelspec": {
   "display_name": "Python 3 (ipykernel)",
   "language": "python",
   "name": "python3"
  },
  "language_info": {
   "codemirror_mode": {
    "name": "ipython",
    "version": 3
   },
   "file_extension": ".py",
   "mimetype": "text/x-python",
   "name": "python",
   "nbconvert_exporter": "python",
   "pygments_lexer": "ipython3",
   "version": "3.9.5"
  }
 },
 "nbformat": 4,
 "nbformat_minor": 5
}
